{
 "cells": [
  {
   "cell_type": "markdown",
   "id": "0f4d9d1b",
   "metadata": {},
   "source": [
    "# Import Required Libraries\n",
    "Import necessary libraries such as NumPy, Pandas, Matplotlib, Seaborn, and Scikit-learn."
   ]
  },
  {
   "cell_type": "code",
   "execution_count": null,
   "id": "c0b6c794",
   "metadata": {},
   "outputs": [],
   "source": [
    "# Import Required Libraries\n",
    "import numpy as np\n",
    "import pandas as pd\n",
    "import seaborn as sns\n",
    "import matplotlib.pyplot as plt\n",
    "from sklearn.model_selection import train_test_split\n",
    "from sklearn.ensemble import RandomForestRegressor\n",
    "from sklearn.metrics import mean_absolute_error, mean_squared_error, mean_absolute_percentage_error, r2_score\n",
    "from sklearn.decomposition import PCA\n",
    "from tabulate import tabulate"
   ]
  },
  {
   "cell_type": "markdown",
   "id": "d2887b93",
   "metadata": {},
   "source": [
    "# Load and Preprocess Data\n",
    "Load the training, validation, and test datasets. Perform scaling and feature selection as needed."
   ]
  },
  {
   "cell_type": "code",
   "execution_count": null,
   "id": "6384c7ef",
   "metadata": {},
   "outputs": [],
   "source": [
    "# Load and preprocess data\n",
    "data = pd.read_csv('../clean_data/BigDS_train.csv')\n",
    "X = data.drop(columns=['Price'])\n",
    "y = data['Price']\n",
    "\n",
    "# Train/validation split\n",
    "X_train, X_val, y_train, y_val = train_test_split(X, y, test_size=0.3, random_state=0)\n",
    "\n",
    "# Scale features\n",
    "from sklearn.preprocessing import StandardScaler\n",
    "scaler = StandardScaler()\n",
    "X_train_scaled = scaler.fit_transform(X_train)\n",
    "X_val_scaled = scaler.transform(X_val)\n",
    "\n",
    "# Load test data\n",
    "testset = pd.read_csv('../clean_data/BigDS_test.csv')\n",
    "X_test = testset.drop(columns=['Price'])\n",
    "y_test = testset['Price']"
   ]
  },
  {
   "cell_type": "markdown",
   "id": "f57f7bdf",
   "metadata": {},
   "source": [
    "# Adjust Prediction Plot\n",
    "Refactor the prediction plot function to improve visualization, including better axis labels, legends, and gridlines."
   ]
  },
  {
   "cell_type": "code",
   "execution_count": null,
   "id": "ca7a5c4d",
   "metadata": {},
   "outputs": [],
   "source": [
    "# Adjusted prediction plot function\n",
    "def plot_predictions(y_true, y_pred, title=\"Prediction vs Actual\"):\n",
    "    plt.figure(figsize=(12, 6))\n",
    "    plt.plot(y_true[:250], label=\"Actual\", color=\"blue\")\n",
    "    plt.plot(y_pred[:250], label=\"Predicted\", color=\"orange\")\n",
    "    plt.xlabel(\"Sample Index\")\n",
    "    plt.ylabel(\"Price (VND)\")\n",
    "    plt.title(title)\n",
    "    plt.legend()\n",
    "    plt.grid(True)\n",
    "    plt.show()"
   ]
  },
  {
   "cell_type": "markdown",
   "id": "7b5d1534",
   "metadata": {},
   "source": [
    "# Adjust Feature Importance Chart\n",
    "Enhance the feature importance chart by adding titles, axis labels, and sorting features by importance."
   ]
  },
  {
   "cell_type": "code",
   "execution_count": null,
   "id": "de0db129",
   "metadata": {},
   "outputs": [],
   "source": [
    "# Adjusted feature importance chart\n",
    "def plot_feature_importance(model, feature_names):\n",
    "    importance = model.feature_importances_\n",
    "    sorted_indices = np.argsort(importance)\n",
    "    plt.figure(figsize=(10, 6))\n",
    "    plt.barh(range(len(sorted_indices)), importance[sorted_indices], align=\"center\")\n",
    "    plt.yticks(range(len(sorted_indices)), [feature_names[i] for i in sorted_indices])\n",
    "    plt.xlabel(\"Feature Importance\")\n",
    "    plt.ylabel(\"Features\")\n",
    "    plt.title(\"Feature Importance Chart\")\n",
    "    plt.grid(True)\n",
    "    plt.show()"
   ]
  },
  {
   "cell_type": "markdown",
   "id": "4cb8b6b3",
   "metadata": {},
   "source": [
    "# Adjust PCA Comparison Chart\n",
    "Refactor the PCA comparison chart to include clear legends, titles, and consistent color schemes."
   ]
  },
  {
   "cell_type": "code",
   "execution_count": null,
   "id": "3ab3c923",
   "metadata": {},
   "outputs": [],
   "source": [
    "# Adjusted PCA comparison chart\n",
    "def plot_pca_comparison(scores, metrics=[\"MAE\", \"RMSE\", \"MAPE\"]):\n",
    "    fig, axs = plt.subplots(1, len(metrics), figsize=(15, 5))\n",
    "    fig.suptitle(\"PCA Effect on Model Performance\", fontsize=16)\n",
    "    for i, metric in enumerate(metrics):\n",
    "        df_comparison = pd.DataFrame({\n",
    "            \"Algorithms\": [\"Random Forest\"],\n",
    "            \"PCA\": [scores[-2][metric][0]],\n",
    "            \"No PCA\": [scores[-1][metric][0]],\n",
    "        })\n",
    "        df_comparison.plot(x=\"Algorithms\", y=[\"PCA\", \"No PCA\"], kind=\"bar\", ax=axs[i], color=[\"#b5ead7\", \"#fdcf76\"])\n",
    "        axs[i].set_ylabel(metric)\n",
    "        axs[i].set_title(f\"Comparison of {metric}\")\n",
    "    plt.tight_layout()\n",
    "    plt.show()"
   ]
  },
  {
   "cell_type": "markdown",
   "id": "29f18afb",
   "metadata": {},
   "source": [
    "# Adjust Metrics Display\n",
    "Improve the tabular display of metrics using libraries like Tabulate or Pandas for better formatting."
   ]
  },
  {
   "cell_type": "code",
   "execution_count": null,
   "id": "ae420d80",
   "metadata": {},
   "outputs": [],
   "source": [
    "# Adjusted metrics display\n",
    "def display_metrics_table(metrics_dict):\n",
    "    table = [[key, value] for key, value in metrics_dict.items()]\n",
    "    headers = [\"Metric\", \"Value\"]\n",
    "    print(tabulate(table, headers=headers, tablefmt=\"fancy_grid\", numalign=\"right\", floatfmt=\".2f\"))"
   ]
  },
  {
   "cell_type": "markdown",
   "id": "7c30af98",
   "metadata": {},
   "source": [
    "# Adjust Test Data Evaluation Charts\n",
    "Refactor test data evaluation plots to include better annotations, axis labels, and titles for clarity."
   ]
  },
  {
   "cell_type": "code",
   "execution_count": null,
   "id": "36ecf92e",
   "metadata": {},
   "outputs": [],
   "source": [
    "# Adjusted test data evaluation plot\n",
    "def evaluate_test_data(model, X_test, y_test):\n",
    "    y_pred = model.predict(X_test)\n",
    "    mae = mean_absolute_error(y_test, y_pred)\n",
    "    mse = mean_squared_error(y_test, y_pred)\n",
    "    rmse = np.sqrt(mse)\n",
    "    r2 = r2_score(y_test, y_pred)\n",
    "    \n",
    "    metrics = {\n",
    "        \"MAE\": mae,\n",
    "        \"MSE\": mse,\n",
    "        \"RMSE\": rmse,\n",
    "        \"R²\": r2\n",
    "    }\n",
    "    display_metrics_table(metrics)\n",
    "    \n",
    "    plt.figure(figsize=(12, 6))\n",
    "    plt.scatter(y_test, y_pred, alpha=0.6, color=\"orange\")\n",
    "    plt.plot([y_test.min(), y_test.max()], [y_test.min(), y_test.max()], color=\"blue\", linestyle=\"--\")\n",
    "    plt.xlabel(\"Actual Price\")\n",
    "    plt.ylabel(\"Predicted Price\")\n",
    "    plt.title(\"Test Data Evaluation\")\n",
    "    plt.grid(True)\n",
    "    plt.show()"
   ]
  }
 ],
 "metadata": {
  "language_info": {
   "name": "python"
  }
 },
 "nbformat": 4,
 "nbformat_minor": 5
}
